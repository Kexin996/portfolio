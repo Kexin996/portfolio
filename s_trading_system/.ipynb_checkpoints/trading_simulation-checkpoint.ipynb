{
 "cells": [
  {
   "cell_type": "code",
   "execution_count": 1,
   "id": "d58fbf59",
   "metadata": {},
   "outputs": [
    {
     "data": {
      "text/plain": [
       "'\\nImplementation of a process of real trading setting\\n'"
      ]
     },
     "execution_count": 1,
     "metadata": {},
     "output_type": "execute_result"
    }
   ],
   "source": [
    "\"\"\"\n",
    "Implementation of a process of real trading setting\n",
    "\"\"\""
   ]
  },
  {
   "cell_type": "code",
   "execution_count": 3,
   "id": "191f82df",
   "metadata": {},
   "outputs": [],
   "source": [
    "from liquidity_provider import LiquidityProvider\n",
    "from trading_strategy import TradingStrategy\n",
    "from order_manager import OrderManager\n",
    "from market_simulator import MarketSimulator\n",
    "from order_book import OrderBook\n",
    "from collections import deque # we use deque for speed"
   ]
  },
  {
   "cell_type": "code",
   "execution_count": 6,
   "id": "d151467b",
   "metadata": {},
   "outputs": [
    {
     "ename": "AttributeError",
     "evalue": "'LiquidityProvider' object has no attribute 'read_tick_data_from_source'",
     "output_type": "error",
     "traceback": [
      "\u001b[0;31m---------------------------------------------------------------------------\u001b[0m",
      "\u001b[0;31mAttributeError\u001b[0m                            Traceback (most recent call last)",
      "\u001b[0;32m/var/folders/q4/t7_3vl696xq86ss_8swj5ysr0000gn/T/ipykernel_73976/4275844229.py\u001b[0m in \u001b[0;36m<module>\u001b[0;34m\u001b[0m\n\u001b[1;32m     37\u001b[0m         \u001b[0mlp\u001b[0m\u001b[0;34m.\u001b[0m\u001b[0mread_tick_data_from_source\u001b[0m\u001b[0;34m(\u001b[0m\u001b[0;34m)\u001b[0m \u001b[0;31m# liquidity providercontinue to read price\u001b[0m\u001b[0;34m\u001b[0m\u001b[0;34m\u001b[0m\u001b[0m\n\u001b[1;32m     38\u001b[0m \u001b[0;32mif\u001b[0m \u001b[0m__name__\u001b[0m \u001b[0;34m==\u001b[0m \u001b[0;34m'__main__'\u001b[0m\u001b[0;34m:\u001b[0m\u001b[0;34m\u001b[0m\u001b[0;34m\u001b[0m\u001b[0m\n\u001b[0;32m---> 39\u001b[0;31m     \u001b[0mmain\u001b[0m\u001b[0;34m(\u001b[0m\u001b[0;34m)\u001b[0m\u001b[0;34m\u001b[0m\u001b[0;34m\u001b[0m\u001b[0m\n\u001b[0m",
      "\u001b[0;32m/var/folders/q4/t7_3vl696xq86ss_8swj5ysr0000gn/T/ipykernel_73976/4275844229.py\u001b[0m in \u001b[0;36mmain\u001b[0;34m()\u001b[0m\n\u001b[1;32m     15\u001b[0m \u001b[0;34m\u001b[0m\u001b[0m\n\u001b[1;32m     16\u001b[0m     \u001b[0;31m# pseducode, meaning that liquidity provide reads data from some source\u001b[0m\u001b[0;34m\u001b[0m\u001b[0;34m\u001b[0m\u001b[0m\n\u001b[0;32m---> 17\u001b[0;31m     \u001b[0mlp\u001b[0m\u001b[0;34m.\u001b[0m\u001b[0mread_tick_data_from_source\u001b[0m\u001b[0;34m(\u001b[0m\u001b[0;34m)\u001b[0m\u001b[0;34m\u001b[0m\u001b[0;34m\u001b[0m\u001b[0m\n\u001b[0m\u001b[1;32m     18\u001b[0m     \u001b[0;32mwhile\u001b[0m \u001b[0mlen\u001b[0m\u001b[0;34m(\u001b[0m\u001b[0mlp_2_gw\u001b[0m\u001b[0;34m)\u001b[0m \u001b[0;34m>\u001b[0m \u001b[0;36m0\u001b[0m\u001b[0;34m:\u001b[0m \u001b[0;31m# read one piece of information\u001b[0m\u001b[0;34m\u001b[0m\u001b[0;34m\u001b[0m\u001b[0m\n\u001b[1;32m     19\u001b[0m         \u001b[0;31m# receive new order, send it to order book\u001b[0m\u001b[0;34m\u001b[0m\u001b[0;34m\u001b[0m\u001b[0m\n",
      "\u001b[0;31mAttributeError\u001b[0m: 'LiquidityProvider' object has no attribute 'read_tick_data_from_source'"
     ]
    }
   ],
   "source": [
    "# define how a real trading setting should be\n",
    "def main():\n",
    "    lp_2_gateway = deque()\n",
    "    ob_2_ts = deque()\n",
    "    om_2_ts = deque()\n",
    "    ts_2_om = deque()\n",
    "    om_2_gw = deque()\n",
    "    gw_2_om = deque()\n",
    "    \n",
    "    lp = LiquidityProvider(lp_2_gateway)\n",
    "    ob = OrderBook(lp_2_gateway,ob_2_ts)\n",
    "    ts = TradingStrategy(ob_2_ts, ts_2_om,om_2_ts)\n",
    "    ms = MarketSimulator(om_2_gw,gw_2_om)\n",
    "    om = OrderManager(ts_2_om,om_2_ts,om_2_gw,gw_2_om)\n",
    "    \n",
    "    # pseducode, meaning that liquidity provide reads data from some source\n",
    "    # just shows how the process works\n",
    "    lp.read_tick_data_from_source() \n",
    "    while len(lp_2_gw) > 0: # read one piece of information\n",
    "        # receive new order, send it to order book\n",
    "        ob.handle_order_from_gateway()\n",
    "        \n",
    "        # trading strategy receives order\n",
    "        ts.handle_input_from_ob()\n",
    "        \n",
    "        # order manager receives input (e.g. order)\n",
    "        om.handle_input_from_ts()\n",
    "        \n",
    "        # market receives the information sent by order manager\n",
    "        ms.handle_order_from_om()\n",
    "        \n",
    "        # order manager handles the feedback from market\n",
    "        om.handle_input_from_market()\n",
    "        \n",
    "        # trading strategy reacts to the info sent by back order manager\n",
    "        ts.handle_response_from_om()\n",
    "        \n",
    "        lp.read_tick_data_from_source() # liquidity providercontinue to read price\n",
    "if __name__ == '__main__':\n",
    "    main()"
   ]
  },
  {
   "cell_type": "code",
   "execution_count": null,
   "id": "61421649",
   "metadata": {},
   "outputs": [],
   "source": [
    "# this is also the pseducode for our event driven backtester"
   ]
  }
 ],
 "metadata": {
  "kernelspec": {
   "display_name": "Python 3 (ipykernel)",
   "language": "python",
   "name": "python3"
  },
  "language_info": {
   "codemirror_mode": {
    "name": "ipython",
    "version": 3
   },
   "file_extension": ".py",
   "mimetype": "text/x-python",
   "name": "python",
   "nbconvert_exporter": "python",
   "pygments_lexer": "ipython3",
   "version": "3.9.7"
  }
 },
 "nbformat": 4,
 "nbformat_minor": 5
}
