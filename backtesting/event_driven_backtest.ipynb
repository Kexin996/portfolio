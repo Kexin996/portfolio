{
 "cells": [
  {
   "cell_type": "code",
   "execution_count": 3,
   "id": "5c4ebf75",
   "metadata": {},
   "outputs": [
    {
     "data": {
      "text/plain": [
       "'\\nImplementation of an event driven backtest system\\n'"
      ]
     },
     "execution_count": 3,
     "metadata": {},
     "output_type": "execute_result"
    }
   ],
   "source": [
    "\"\"\"\n",
    "Implementation of an event driven backtest system on a dual moving average strategy\n",
    "\"\"\""
   ]
  },
  {
   "cell_type": "code",
   "execution_count": 29,
   "id": "0787a42e",
   "metadata": {},
   "outputs": [],
   "source": [
    "# we import the demo of trading system\n",
    "import sys\n",
    "import os\n",
    "sys.path.insert(0,'/Users/zhangkexin/Desktop/learning-algo/learning-trading-strategies/s_trading_system'\n",
    ") # we insert the folder we need at the top\n",
    "from liquidity_provider import LiquidityProvider\n",
    "from trading_strategy import TradingStrategy\n",
    "from order_manager import OrderManager\n",
    "from market_simulator import MarketSimulator\n",
    "from order_book import OrderBook\n",
    "from collections import deque # we use deque for speed"
   ]
  },
  {
   "cell_type": "code",
   "execution_count": null,
   "id": "a33567b6",
   "metadata": {},
   "outputs": [],
   "source": []
  },
  {
   "cell_type": "code",
   "execution_count": null,
   "id": "ccea35b5",
   "metadata": {},
   "outputs": [],
   "source": []
  }
 ],
 "metadata": {
  "kernelspec": {
   "display_name": "Python 3 (ipykernel)",
   "language": "python",
   "name": "python3"
  },
  "language_info": {
   "codemirror_mode": {
    "name": "ipython",
    "version": 3
   },
   "file_extension": ".py",
   "mimetype": "text/x-python",
   "name": "python",
   "nbconvert_exporter": "python",
   "pygments_lexer": "ipython3",
   "version": "3.9.7"
  }
 },
 "nbformat": 4,
 "nbformat_minor": 5
}
