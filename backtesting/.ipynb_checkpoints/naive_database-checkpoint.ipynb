{
 "cells": [
  {
   "cell_type": "code",
   "execution_count": 40,
   "id": "6187983e",
   "metadata": {},
   "outputs": [
    {
     "data": {
      "text/plain": [
       "'\\nImplementation of a simple database by using hierarchical data format (HDF5)\\n'"
      ]
     },
     "execution_count": 40,
     "metadata": {},
     "output_type": "execute_result"
    }
   ],
   "source": [
    "\"\"\"\n",
    "Implementation of a simple database by using hierarchical data format (HDF5)\n",
    "\"\"\""
   ]
  },
  {
   "cell_type": "code",
   "execution_count": 41,
   "id": "2d3a8c22",
   "metadata": {},
   "outputs": [],
   "source": [
    "import pandas as pd\n",
    "import numpy as np\n",
    "from pandas_datareader import data\n",
    "import matplotlib.pyplot as plt\n",
    "import h5py"
   ]
  },
  {
   "cell_type": "code",
   "execution_count": 42,
   "id": "c2883bc5",
   "metadata": {},
   "outputs": [],
   "source": [
    "# define a function to load our financial data and save it in a pickle file\n",
    "# pickle file is fast, but it will occupy much space\n",
    "# so we try h5 file\n",
    "def load_financial_data(start_date,end_date,output_file):\n",
    "    try:\n",
    "        df = pd.read_pickle(output_file)\n",
    "    except FileNotFoundError:\n",
    "        df = data.DataReader('AMZN','yahoo',start_date,end_date)\n",
    "        df.to_pickle(output_file)\n",
    "    return df"
   ]
  },
  {
   "cell_type": "code",
   "execution_count": 43,
   "id": "02e92f89",
   "metadata": {},
   "outputs": [],
   "source": [
    "amzn_data = load_financial_data(start_date = '2000-01-01',end_date = '2020-01-01',output_file = 'amzn.pkl')"
   ]
  },
  {
   "cell_type": "code",
   "execution_count": 44,
   "id": "e47282a9",
   "metadata": {},
   "outputs": [
    {
     "name": "stderr",
     "output_type": "stream",
     "text": [
      "/Users/zhangkexin/opt/anaconda3/lib/python3.9/site-packages/tables/path.py:155: NaturalNameWarning: object name is not a valid Python identifier: 'Adj Close'; it does not match the pattern ``^[a-zA-Z_][a-zA-Z0-9_]*$``; you will not be able to use natural naming to access this object; using ``getattr()`` will still work, though\n",
      "  check_attribute_name(name)\n",
      "/Users/zhangkexin/opt/anaconda3/lib/python3.9/site-packages/tables/attributeset.py:464: NaturalNameWarning: object name is not a valid Python identifier: 'Adj Close_kind'; it does not match the pattern ``^[a-zA-Z_][a-zA-Z0-9_]*$``; you will not be able to use natural naming to access this object; using ``getattr()`` will still work, though\n",
      "  check_attribute_name(name)\n",
      "/Users/zhangkexin/opt/anaconda3/lib/python3.9/site-packages/tables/attributeset.py:464: NaturalNameWarning: object name is not a valid Python identifier: 'Adj Close_meta'; it does not match the pattern ``^[a-zA-Z_][a-zA-Z0-9_]*$``; you will not be able to use natural naming to access this object; using ``getattr()`` will still work, though\n",
      "  check_attribute_name(name)\n",
      "/Users/zhangkexin/opt/anaconda3/lib/python3.9/site-packages/tables/attributeset.py:464: NaturalNameWarning: object name is not a valid Python identifier: 'Adj Close_dtype'; it does not match the pattern ``^[a-zA-Z_][a-zA-Z0-9_]*$``; you will not be able to use natural naming to access this object; using ``getattr()`` will still work, though\n",
      "  check_attribute_name(name)\n"
     ]
    }
   ],
   "source": [
    "# we transform the dataframe to hierarchical data format\n",
    "# second parameter: identify for the group ---> 'amzn_data': key of the h5 file\n",
    "amzn_data.to_hdf('amzn_data.h5','amzn_data',mode = 'w',format = 'table',data_columns = True) # save for data columns"
   ]
  },
  {
   "cell_type": "code",
   "execution_count": 45,
   "id": "673c79c2",
   "metadata": {},
   "outputs": [],
   "source": [
    "# we load our data from h5 file\n",
    "# and check whether we can convert it into a dataframe\n",
    "amzn_data_from_h5 = h5py.File('amzn_data.h5')"
   ]
  },
  {
   "cell_type": "code",
   "execution_count": 46,
   "id": "b4f83cda",
   "metadata": {},
   "outputs": [
    {
     "name": "stdout",
     "output_type": "stream",
     "text": [
      "['_i_table', 'table']\n"
     ]
    }
   ],
   "source": [
    "# we check the keys\n",
    "print(list(amzn_data_from_h5['amzn_data'].keys()))"
   ]
  },
  {
   "cell_type": "code",
   "execution_count": 47,
   "id": "30a12c5f",
   "metadata": {},
   "outputs": [
    {
     "ename": "AttributeError",
     "evalue": "'slice' object has no attribute 'encode'",
     "output_type": "error",
     "traceback": [
      "\u001b[0;31m---------------------------------------------------------------------------\u001b[0m",
      "\u001b[0;31mAttributeError\u001b[0m                            Traceback (most recent call last)",
      "\u001b[0;32m/var/folders/q4/t7_3vl696xq86ss_8swj5ysr0000gn/T/ipykernel_57369/1542707209.py\u001b[0m in \u001b[0;36m<module>\u001b[0;34m\u001b[0m\n\u001b[0;32m----> 1\u001b[0;31m \u001b[0mamzn_data_from_h5\u001b[0m\u001b[0;34m[\u001b[0m\u001b[0;34m'amzn_data'\u001b[0m\u001b[0;34m]\u001b[0m\u001b[0;34m[\u001b[0m\u001b[0;34m'_i_table'\u001b[0m\u001b[0;34m]\u001b[0m\u001b[0;34m[\u001b[0m\u001b[0;34m:\u001b[0m\u001b[0;34m]\u001b[0m\u001b[0;34m\u001b[0m\u001b[0;34m\u001b[0m\u001b[0m\n\u001b[0m",
      "\u001b[0;32mh5py/_objects.pyx\u001b[0m in \u001b[0;36mh5py._objects.with_phil.wrapper\u001b[0;34m()\u001b[0m\n",
      "\u001b[0;32mh5py/_objects.pyx\u001b[0m in \u001b[0;36mh5py._objects.with_phil.wrapper\u001b[0;34m()\u001b[0m\n",
      "\u001b[0;32m~/opt/anaconda3/lib/python3.9/site-packages/h5py/_hl/group.py\u001b[0m in \u001b[0;36m__getitem__\u001b[0;34m(self, name)\u001b[0m\n\u001b[1;32m    286\u001b[0m                 \u001b[0;32mraise\u001b[0m \u001b[0mValueError\u001b[0m\u001b[0;34m(\u001b[0m\u001b[0;34m\"Invalid HDF5 object reference\"\u001b[0m\u001b[0;34m)\u001b[0m\u001b[0;34m\u001b[0m\u001b[0;34m\u001b[0m\u001b[0m\n\u001b[1;32m    287\u001b[0m         \u001b[0;32melse\u001b[0m\u001b[0;34m:\u001b[0m\u001b[0;34m\u001b[0m\u001b[0;34m\u001b[0m\u001b[0m\n\u001b[0;32m--> 288\u001b[0;31m             \u001b[0moid\u001b[0m \u001b[0;34m=\u001b[0m \u001b[0mh5o\u001b[0m\u001b[0;34m.\u001b[0m\u001b[0mopen\u001b[0m\u001b[0;34m(\u001b[0m\u001b[0mself\u001b[0m\u001b[0;34m.\u001b[0m\u001b[0mid\u001b[0m\u001b[0;34m,\u001b[0m \u001b[0mself\u001b[0m\u001b[0;34m.\u001b[0m\u001b[0m_e\u001b[0m\u001b[0;34m(\u001b[0m\u001b[0mname\u001b[0m\u001b[0;34m)\u001b[0m\u001b[0;34m,\u001b[0m \u001b[0mlapl\u001b[0m\u001b[0;34m=\u001b[0m\u001b[0mself\u001b[0m\u001b[0;34m.\u001b[0m\u001b[0m_lapl\u001b[0m\u001b[0;34m)\u001b[0m\u001b[0;34m\u001b[0m\u001b[0;34m\u001b[0m\u001b[0m\n\u001b[0m\u001b[1;32m    289\u001b[0m \u001b[0;34m\u001b[0m\u001b[0m\n\u001b[1;32m    290\u001b[0m         \u001b[0motype\u001b[0m \u001b[0;34m=\u001b[0m \u001b[0mh5i\u001b[0m\u001b[0;34m.\u001b[0m\u001b[0mget_type\u001b[0m\u001b[0;34m(\u001b[0m\u001b[0moid\u001b[0m\u001b[0;34m)\u001b[0m\u001b[0;34m\u001b[0m\u001b[0;34m\u001b[0m\u001b[0m\n",
      "\u001b[0;32m~/opt/anaconda3/lib/python3.9/site-packages/h5py/_hl/base.py\u001b[0m in \u001b[0;36m_e\u001b[0;34m(self, name, lcpl)\u001b[0m\n\u001b[1;32m    198\u001b[0m         \u001b[0;32melse\u001b[0m\u001b[0;34m:\u001b[0m\u001b[0;34m\u001b[0m\u001b[0;34m\u001b[0m\u001b[0m\n\u001b[1;32m    199\u001b[0m             \u001b[0;32mtry\u001b[0m\u001b[0;34m:\u001b[0m\u001b[0;34m\u001b[0m\u001b[0;34m\u001b[0m\u001b[0m\n\u001b[0;32m--> 200\u001b[0;31m                 \u001b[0mname\u001b[0m \u001b[0;34m=\u001b[0m \u001b[0mname\u001b[0m\u001b[0;34m.\u001b[0m\u001b[0mencode\u001b[0m\u001b[0;34m(\u001b[0m\u001b[0;34m'ascii'\u001b[0m\u001b[0;34m)\u001b[0m\u001b[0;34m\u001b[0m\u001b[0;34m\u001b[0m\u001b[0m\n\u001b[0m\u001b[1;32m    201\u001b[0m                 \u001b[0mcoding\u001b[0m \u001b[0;34m=\u001b[0m \u001b[0mh5t\u001b[0m\u001b[0;34m.\u001b[0m\u001b[0mCSET_ASCII\u001b[0m\u001b[0;34m\u001b[0m\u001b[0;34m\u001b[0m\u001b[0m\n\u001b[1;32m    202\u001b[0m             \u001b[0;32mexcept\u001b[0m \u001b[0mUnicodeEncodeError\u001b[0m\u001b[0;34m:\u001b[0m\u001b[0;34m\u001b[0m\u001b[0;34m\u001b[0m\u001b[0m\n",
      "\u001b[0;31mAttributeError\u001b[0m: 'slice' object has no attribute 'encode'"
     ]
    }
   ],
   "source": [
    "amzn_data_from_h5['amzn_data']['_i_table'][:] \n",
    "# the first key is empty as we check\n",
    "# it may relate to how pandas work with h5py"
   ]
  },
  {
   "cell_type": "code",
   "execution_count": 31,
   "id": "3c952355",
   "metadata": {},
   "outputs": [
    {
     "data": {
      "text/plain": [
       "array([( 946857600000000000,  4.4781251 ,  3.95234394,  4.07499981,  4.46875   , 322352000,  4.46875   ),\n",
       "       ( 946944000000000000,  4.57499981,  4.0875001 ,  4.26875019,  4.09687519, 349748000,  4.09687519),\n",
       "       ( 947030400000000000,  3.7562499 ,  3.4000001 ,  3.5250001 ,  3.48749995, 769148000,  3.48749995),\n",
       "       ...,\n",
       "       (1577404800000000000, 95.06999969, 93.30049896, 94.14600372, 93.48999786, 123732000, 93.48999786),\n",
       "       (1577664000000000000, 94.19999695, 92.03099823, 93.69999695, 92.34449768,  73494000, 92.34449768),\n",
       "       (1577750400000000000, 92.66300201, 91.6115036 , 92.09999847, 92.39199829,  50130000, 92.39199829)],\n",
       "      dtype=[('index', '<i8'), ('High', '<f8'), ('Low', '<f8'), ('Open', '<f8'), ('Close', '<f8'), ('Volume', '<i8'), ('Adj Close', '<f8')])"
      ]
     },
     "execution_count": 31,
     "metadata": {},
     "output_type": "execute_result"
    }
   ],
   "source": [
    "# use 'amzn_data' as a key\n",
    "# we can check how our data is saved\n",
    "# the index is the timeframe in seconds\n",
    "amzn_data_from_h5['amzn_data']['table'][:]"
   ]
  },
  {
   "cell_type": "code",
   "execution_count": 21,
   "id": "276f2521",
   "metadata": {},
   "outputs": [
    {
     "name": "stdout",
     "output_type": "stream",
     "text": [
      "('Adj Close_dtype', b'float64')\n",
      "('Adj Close_kind', b'(lp0\\nVAdj Close\\np1\\na.')\n",
      "('Adj Close_meta', b'N.')\n",
      "('CLASS', b'TABLE')\n",
      "('Close_dtype', b'float64')\n",
      "('Close_kind', b'(lp0\\nVClose\\np1\\na.')\n",
      "('Close_meta', b'N.')\n",
      "('FIELD_0_FILL', 0)\n",
      "('FIELD_0_NAME', b'index')\n",
      "('FIELD_1_FILL', 0.0)\n",
      "('FIELD_1_NAME', b'High')\n",
      "('FIELD_2_FILL', 0.0)\n",
      "('FIELD_2_NAME', b'Low')\n",
      "('FIELD_3_FILL', 0.0)\n",
      "('FIELD_3_NAME', b'Open')\n",
      "('FIELD_4_FILL', 0.0)\n",
      "('FIELD_4_NAME', b'Close')\n",
      "('FIELD_5_FILL', 0)\n",
      "('FIELD_5_NAME', b'Volume')\n",
      "('FIELD_6_FILL', 0.0)\n",
      "('FIELD_6_NAME', b'Adj Close')\n",
      "('High_dtype', b'float64')\n",
      "('High_kind', b'(lp0\\nVHigh\\np1\\na.')\n",
      "('High_meta', b'N.')\n",
      "('Low_dtype', b'float64')\n",
      "('Low_kind', b'(lp0\\nVLow\\np1\\na.')\n",
      "('Low_meta', b'N.')\n",
      "('NROWS', 5031)\n",
      "('Open_dtype', b'float64')\n",
      "('Open_kind', b'(lp0\\nVOpen\\np1\\na.')\n",
      "('Open_meta', b'N.')\n",
      "('TITLE', Empty(dtype=dtype('S1')))\n",
      "('VERSION', b'2.7')\n",
      "('Volume_dtype', b'int64')\n",
      "('Volume_kind', b'(lp0\\nVVolume\\np1\\na.')\n",
      "('Volume_meta', b'N.')\n",
      "('index_kind', b'datetime64')\n"
     ]
    }
   ],
   "source": [
    "# then we check attributes in alphabet order\n",
    "for attribute in amzn_data_from_h5['amzn_data']['table'].attrs.items(): # return a tuple\n",
    "    print(attribute)"
   ]
  },
  {
   "cell_type": "code",
   "execution_count": null,
   "id": "4c004adc",
   "metadata": {},
   "outputs": [],
   "source": [
    "# note: \n",
    "# 1. the probability of getting currpt data is high \n",
    "# 2. limited features ---> cannot remove arrays ---> doesn't not allow deletion\n",
    "# 3. low performance ---> it doesn't use system caching (well, it is indeed quite slow)"
   ]
  }
 ],
 "metadata": {
  "kernelspec": {
   "display_name": "Python 3 (ipykernel)",
   "language": "python",
   "name": "python3"
  },
  "language_info": {
   "codemirror_mode": {
    "name": "ipython",
    "version": 3
   },
   "file_extension": ".py",
   "mimetype": "text/x-python",
   "name": "python",
   "nbconvert_exporter": "python",
   "pygments_lexer": "ipython3",
   "version": "3.9.7"
  }
 },
 "nbformat": 4,
 "nbformat_minor": 5
}
