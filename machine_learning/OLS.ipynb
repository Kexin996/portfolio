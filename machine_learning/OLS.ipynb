{
 "cells": [
  {
   "cell_type": "code",
   "execution_count": 24,
   "id": "46d3a074",
   "metadata": {},
   "outputs": [],
   "source": [
    "# this is a simple implementation of OLS in stocks trading\n",
    "import pandas as pd\n",
    "import numpy as np\n",
    "import pandas_datareader as dr\n",
    "import matplotlib.pyplot as plt\n",
    "from sample import load_financial_data, create_regression_trading_condition, create_train_test_split_group"
   ]
  },
  {
   "cell_type": "code",
   "execution_count": 4,
   "id": "82f1377a",
   "metadata": {},
   "outputs": [
    {
     "data": {
      "text/html": [
       "<div>\n",
       "<style scoped>\n",
       "    .dataframe tbody tr th:only-of-type {\n",
       "        vertical-align: middle;\n",
       "    }\n",
       "\n",
       "    .dataframe tbody tr th {\n",
       "        vertical-align: top;\n",
       "    }\n",
       "\n",
       "    .dataframe thead th {\n",
       "        text-align: right;\n",
       "    }\n",
       "</style>\n",
       "<table border=\"1\" class=\"dataframe\">\n",
       "  <thead>\n",
       "    <tr style=\"text-align: right;\">\n",
       "      <th></th>\n",
       "      <th>High</th>\n",
       "      <th>Low</th>\n",
       "      <th>Open</th>\n",
       "      <th>Close</th>\n",
       "      <th>Volume</th>\n",
       "      <th>Adj Close</th>\n",
       "    </tr>\n",
       "    <tr>\n",
       "      <th>Date</th>\n",
       "      <th></th>\n",
       "      <th></th>\n",
       "      <th></th>\n",
       "      <th></th>\n",
       "      <th></th>\n",
       "      <th></th>\n",
       "    </tr>\n",
       "  </thead>\n",
       "  <tbody>\n",
       "    <tr>\n",
       "      <th>2000-01-03</th>\n",
       "      <td>4.478125</td>\n",
       "      <td>3.952344</td>\n",
       "      <td>4.075000</td>\n",
       "      <td>4.468750</td>\n",
       "      <td>322352000</td>\n",
       "      <td>4.468750</td>\n",
       "    </tr>\n",
       "    <tr>\n",
       "      <th>2000-01-04</th>\n",
       "      <td>4.575000</td>\n",
       "      <td>4.087500</td>\n",
       "      <td>4.268750</td>\n",
       "      <td>4.096875</td>\n",
       "      <td>349748000</td>\n",
       "      <td>4.096875</td>\n",
       "    </tr>\n",
       "    <tr>\n",
       "      <th>2000-01-05</th>\n",
       "      <td>3.756250</td>\n",
       "      <td>3.400000</td>\n",
       "      <td>3.525000</td>\n",
       "      <td>3.487500</td>\n",
       "      <td>769148000</td>\n",
       "      <td>3.487500</td>\n",
       "    </tr>\n",
       "    <tr>\n",
       "      <th>2000-01-06</th>\n",
       "      <td>3.634375</td>\n",
       "      <td>3.200000</td>\n",
       "      <td>3.565625</td>\n",
       "      <td>3.278125</td>\n",
       "      <td>375040000</td>\n",
       "      <td>3.278125</td>\n",
       "    </tr>\n",
       "    <tr>\n",
       "      <th>2000-01-07</th>\n",
       "      <td>3.525000</td>\n",
       "      <td>3.309375</td>\n",
       "      <td>3.350000</td>\n",
       "      <td>3.478125</td>\n",
       "      <td>210108000</td>\n",
       "      <td>3.478125</td>\n",
       "    </tr>\n",
       "    <tr>\n",
       "      <th>...</th>\n",
       "      <td>...</td>\n",
       "      <td>...</td>\n",
       "      <td>...</td>\n",
       "      <td>...</td>\n",
       "      <td>...</td>\n",
       "      <td>...</td>\n",
       "    </tr>\n",
       "    <tr>\n",
       "      <th>2019-12-24</th>\n",
       "      <td>89.778503</td>\n",
       "      <td>89.378998</td>\n",
       "      <td>89.690498</td>\n",
       "      <td>89.460503</td>\n",
       "      <td>17626000</td>\n",
       "      <td>89.460503</td>\n",
       "    </tr>\n",
       "    <tr>\n",
       "      <th>2019-12-26</th>\n",
       "      <td>93.523003</td>\n",
       "      <td>89.974998</td>\n",
       "      <td>90.050499</td>\n",
       "      <td>93.438499</td>\n",
       "      <td>120108000</td>\n",
       "      <td>93.438499</td>\n",
       "    </tr>\n",
       "    <tr>\n",
       "      <th>2019-12-27</th>\n",
       "      <td>95.070000</td>\n",
       "      <td>93.300499</td>\n",
       "      <td>94.146004</td>\n",
       "      <td>93.489998</td>\n",
       "      <td>123732000</td>\n",
       "      <td>93.489998</td>\n",
       "    </tr>\n",
       "    <tr>\n",
       "      <th>2019-12-30</th>\n",
       "      <td>94.199997</td>\n",
       "      <td>92.030998</td>\n",
       "      <td>93.699997</td>\n",
       "      <td>92.344498</td>\n",
       "      <td>73494000</td>\n",
       "      <td>92.344498</td>\n",
       "    </tr>\n",
       "    <tr>\n",
       "      <th>2019-12-31</th>\n",
       "      <td>92.663002</td>\n",
       "      <td>91.611504</td>\n",
       "      <td>92.099998</td>\n",
       "      <td>92.391998</td>\n",
       "      <td>50130000</td>\n",
       "      <td>92.391998</td>\n",
       "    </tr>\n",
       "  </tbody>\n",
       "</table>\n",
       "<p>5031 rows × 6 columns</p>\n",
       "</div>"
      ],
      "text/plain": [
       "                 High        Low       Open      Close     Volume  Adj Close\n",
       "Date                                                                        \n",
       "2000-01-03   4.478125   3.952344   4.075000   4.468750  322352000   4.468750\n",
       "2000-01-04   4.575000   4.087500   4.268750   4.096875  349748000   4.096875\n",
       "2000-01-05   3.756250   3.400000   3.525000   3.487500  769148000   3.487500\n",
       "2000-01-06   3.634375   3.200000   3.565625   3.278125  375040000   3.278125\n",
       "2000-01-07   3.525000   3.309375   3.350000   3.478125  210108000   3.478125\n",
       "...               ...        ...        ...        ...        ...        ...\n",
       "2019-12-24  89.778503  89.378998  89.690498  89.460503   17626000  89.460503\n",
       "2019-12-26  93.523003  89.974998  90.050499  93.438499  120108000  93.438499\n",
       "2019-12-27  95.070000  93.300499  94.146004  93.489998  123732000  93.489998\n",
       "2019-12-30  94.199997  92.030998  93.699997  92.344498   73494000  92.344498\n",
       "2019-12-31  92.663002  91.611504  92.099998  92.391998   50130000  92.391998\n",
       "\n",
       "[5031 rows x 6 columns]"
      ]
     },
     "execution_count": 4,
     "metadata": {},
     "output_type": "execute_result"
    }
   ],
   "source": [
    "# we just load the data of Amazon from 2000-01-01 to 2020-01-01\n",
    "amzn_data = load_financial_data('2000-01-01','2020-01-01','AMZN','amzn.pkl')\n",
    "amzn_data"
   ]
  },
  {
   "cell_type": "code",
   "execution_count": 5,
   "id": "c2a58895",
   "metadata": {},
   "outputs": [],
   "source": [
    "# we create trading condition\n",
    "amzn_data,X,Y = create_regression_trading_condition(amzn_data)\n",
    "\n",
    "# ????? I don't why my function doesn't work\n",
    "# especially when the dropna() function doesn't work\n",
    "# I will go back later\n",
    "amzn_data = amzn_data.dropna()\n",
    "X = amzn_data[['Open-Close', 'High-Low']]\n",
    "Y = amzn_data[['Target']]"
   ]
  },
  {
   "cell_type": "code",
   "execution_count": 6,
   "id": "3a1f2e34",
   "metadata": {},
   "outputs": [
    {
     "data": {
      "text/plain": [
       "array([[<AxesSubplot:xlabel='Open-Close', ylabel='Open-Close'>,\n",
       "        <AxesSubplot:xlabel='High-Low', ylabel='Open-Close'>,\n",
       "        <AxesSubplot:xlabel='Target', ylabel='Open-Close'>],\n",
       "       [<AxesSubplot:xlabel='Open-Close', ylabel='High-Low'>,\n",
       "        <AxesSubplot:xlabel='High-Low', ylabel='High-Low'>,\n",
       "        <AxesSubplot:xlabel='Target', ylabel='High-Low'>],\n",
       "       [<AxesSubplot:xlabel='Open-Close', ylabel='Target'>,\n",
       "        <AxesSubplot:xlabel='High-Low', ylabel='Target'>,\n",
       "        <AxesSubplot:xlabel='Target', ylabel='Target'>]], dtype=object)"
      ]
     },
     "execution_count": 6,
     "metadata": {},
     "output_type": "execute_result"
    },
    {
     "data": {
      "image/png": "[encoded data removed]",
      "text/plain": [
       "<Figure size 432x288 with 9 Axes>"
      ]
     },
     "metadata": {
      "needs_background": "light"
     },
     "output_type": "display_data"
    }
   ],
   "source": [
    "# we use pandas to plot the relationship among the three variables\n",
    "pd.plotting.scatter_matrix(amzn_data[['Open-Close','High-Low','Target']],grid = True,diagonal = 'kde')\n",
    "\n",
    "# here, kde stands for kernal density estimation\n",
    "# - estimate the probability density function of a random variable based on kernels as weights.\n",
    "\n",
    "# how to interpret the graph: I will revisit it later."
   ]
  },
  {
   "cell_type": "code",
   "execution_count": 7,
   "id": "f6247b50",
   "metadata": {},
   "outputs": [],
   "source": [
    "# we take out the train set and the test set\n",
    "X_train,X_test,Y_train,Y_test = create_train_test_split_group(X,Y)\n"
   ]
  },
  {
   "cell_type": "code",
   "execution_count": 8,
   "id": "f129cd05",
   "metadata": {},
   "outputs": [
    {
     "data": {
      "text/plain": [
       "LinearRegression()"
      ]
     },
     "execution_count": 8,
     "metadata": {},
     "output_type": "execute_result"
    }
   ],
   "source": [
    "# now we fit the model\n",
    "from sklearn import linear_model\n",
    "ols = linear_model.LinearRegression()\n",
    "ols.fit(X_train,Y_train)"
   ]
  },
  {
   "cell_type": "code",
   "execution_count": 9,
   "id": "a976b44d",
   "metadata": {},
   "outputs": [
    {
     "data": {
      "text/plain": [
       "array([[0.01123444, 0.03015187]])"
      ]
     },
     "execution_count": 9,
     "metadata": {},
     "output_type": "execute_result"
    }
   ],
   "source": [
    "# we check the coefficients\n",
    "ols.coef_"
   ]
  },
  {
   "cell_type": "code",
   "execution_count": 10,
   "id": "b4c5b051",
   "metadata": {},
   "outputs": [
    {
     "name": "stdout",
     "output_type": "stream",
     "text": [
      "Mean SquaredError: 0.04\n",
      "R^2 Score: 0.00\n"
     ]
    }
   ],
   "source": [
    "# it seems to be good, but we want to see how good the model can predict\n",
    "from sklearn.metrics import mean_squared_error, r2_score\n",
    "# we check both metrics, and we look at the two digits after the decimal point\n",
    "# we check the train set first\n",
    "print(\"Mean SquaredError: %.2f\"%mean_squared_error(Y_train, ols.predict(X_train)))\n",
    "print(\"R^2 Score: %.2f\"%r2_score(Y_train,ols.predict(X_train)))"
   ]
  },
  {
   "cell_type": "code",
   "execution_count": 11,
   "id": "33c6d98f",
   "metadata": {},
   "outputs": [
    {
     "name": "stdout",
     "output_type": "stream",
     "text": [
      "Mean SquaredError: 1.43\n",
      "R^2 Score: -0.00\n"
     ]
    }
   ],
   "source": [
    "# now we check the test set\n",
    "print(\"Mean SquaredError: %.2f\"%mean_squared_error(Y_test, ols.predict(X_test)))\n",
    "print(\"R^2 Score: %.2f\"%r2_score(Y_test,ols.predict(X_test)))"
   ]
  },
  {
   "cell_type": "code",
   "execution_count": 12,
   "id": "47e1e57c",
   "metadata": {},
   "outputs": [
    {
     "data": {
      "text/plain": [
       "Date\n",
       "2000-01-03         NaN\n",
       "2000-01-04   -0.086884\n",
       "2000-01-05   -0.161039\n",
       "2000-01-06   -0.061914\n",
       "2000-01-07    0.059222\n",
       "                ...   \n",
       "2019-12-23    0.003632\n",
       "2019-12-24   -0.002116\n",
       "2019-12-26    0.043506\n",
       "2019-12-27    0.000551\n",
       "2019-12-30   -0.012328\n",
       "Name: AMZN_Returns, Length: 5030, dtype: float64"
      ]
     },
     "execution_count": 12,
     "metadata": {},
     "output_type": "execute_result"
    }
   ],
   "source": [
    "# finally, we create a predicted return\n",
    "amzn_data['Predicted_Signal'] = ols.predict(X) # what we predict is today's signal\n",
    "\n",
    "# since for amzn_data['AMZN_Returns'], we are looking at whether tomorrow the price will go up or down\n",
    "# we just move the close by 1 ---> we use today's close / tomorrow's close as evidence for our prediction\n",
    "amzn_data['AMZN_Returns'] = np.log(amzn_data['Close'] / amzn_data['Close'].shift(1))\n",
    "# why do we take log: the stock prices follow a geometric brownian motion\n",
    "# I will revisit it in my other works\n",
    "amzn_data['AMZN_Returns']"
   ]
  },
  {
   "cell_type": "code",
   "execution_count": 13,
   "id": "1aef17c9",
   "metadata": {},
   "outputs": [],
   "source": [
    "# define a function for calculating return without strategy\n",
    "def calculate_return(df,split_value,symbol):\n",
    "    cum_return = df[split_value:]['%s_Returns'%symbol].cumsum()*100\n",
    "    # we just do some preparations for strategy return\n",
    "    # for preidct_signal, since we want to predict tomorrow\n",
    "    # we also shift it by 1\n",
    "    df['Strategy_Returns'] = df[split_value:]['%s_Returns'%symbol]*df['Predicted_Signal'].shift(1)\n",
    "    return cum_return"
   ]
  },
  {
   "cell_type": "code",
   "execution_count": 14,
   "id": "e91ee45f",
   "metadata": {},
   "outputs": [],
   "source": [
    "# define a functin for calculating strategy return\n",
    "def calculate_strategy_return(df,split_value,symbol):\n",
    "    cum_strategy_return = df[split_value:]['Strategy_Returns'].cumsum()*100\n",
    "    return cum_strategy_return"
   ]
  },
  {
   "cell_type": "code",
   "execution_count": 15,
   "id": "6a4538e7",
   "metadata": {},
   "outputs": [
    {
     "data": {
      "text/plain": [
       "Date\n",
       "2015-12-31    -1.931253\n",
       "2016-01-04    -7.858885\n",
       "2016-01-05    -8.362513\n",
       "2016-01-06    -8.542549\n",
       "2016-01-07   -12.526666\n",
       "                ...    \n",
       "2019-12-23    95.630266\n",
       "2019-12-24    95.418666\n",
       "2019-12-26    99.769290\n",
       "2019-12-27    99.824390\n",
       "2019-12-30    98.591557\n",
       "Name: AMZN_Returns, Length: 1006, dtype: float64"
      ]
     },
     "execution_count": 15,
     "metadata": {},
     "output_type": "execute_result"
    }
   ],
   "source": [
    "cum_amzn_return = calculate_return(amzn_data,split_value=len(X_train), symbol = 'AMZN')\n",
    "cum_amzn_return"
   ]
  },
  {
   "cell_type": "code",
   "execution_count": 16,
   "id": "f926e2ae",
   "metadata": {},
   "outputs": [
    {
     "data": {
      "text/plain": [
       "Date\n",
       "2015-12-31   -0.033052\n",
       "2016-01-04   -0.183613\n",
       "2016-01-05   -0.212915\n",
       "2016-01-06   -0.219788\n",
       "2016-01-07   -0.320114\n",
       "                ...   \n",
       "2019-12-23    2.441195\n",
       "2019-12-24    2.438670\n",
       "2019-12-26    2.510131\n",
       "2019-12-27    2.514027\n",
       "2019-12-30    2.436951\n",
       "Name: Strategy_Returns, Length: 1006, dtype: float64"
      ]
     },
     "execution_count": 16,
     "metadata": {},
     "output_type": "execute_result"
    }
   ],
   "source": [
    "cum_amzn_strategy_return = calculate_strategy_return(amzn_data,split_value = len(X_train),symbol = 'AMZN')\n",
    "cum_amzn_strategy_return "
   ]
  },
  {
   "cell_type": "code",
   "execution_count": 25,
   "id": "5745a120",
   "metadata": {},
   "outputs": [],
   "source": [
    "# we plot our strategy return\n",
    "def plot_chart(cum_return, cum_strategy_return,symbol):\n",
    "    plt.figure(figsize=(10,5)) # set up figure's size\n",
    "    plt.plot(cum_return,label = \"%s Returns\"%symbol)\n",
    "    plt.plot(cum_strategy_return, label = '%s Strategy Return'%symbol)\n",
    "    plt.legend()"
   ]
  },
  {
   "cell_type": "code",
   "execution_count": 26,
   "id": "3b6cb6f4",
   "metadata": {},
   "outputs": [
    {
     "data": {
      "image/png": "[encoded data removed]",
      "text/plain": [
       "<Figure size 720x360 with 1 Axes>"
      ]
     },
     "metadata": {
      "needs_background": "light"
     },
     "output_type": "display_data"
    }
   ],
   "source": [
    "plot_chart(cum_amzn_return,cum_amzn_strategy_return,'AMZN')\n",
    "# ... it seems that OLS is not appropriate for amazon stocks"
   ]
  },
  {
   "cell_type": "code",
   "execution_count": 27,
   "id": "e1ce759a",
   "metadata": {},
   "outputs": [],
   "source": [
    "# we define a function for checking the sharpe ratio\n",
    "def sharpe_ratio(returns, strategy_returns):\n",
    "    strategy_std = strategy_returns.std()\n",
    "    sharpe = (strategy_returns - returns) / strategy_std\n",
    "    return sharpe.mean() # we use mean since we are looking at expected values"
   ]
  },
  {
   "cell_type": "code",
   "execution_count": 28,
   "id": "267efd0d",
   "metadata": {},
   "outputs": [
    {
     "data": {
      "text/plain": [
       "-48.591198993460324"
      ]
     },
     "execution_count": 28,
     "metadata": {},
     "output_type": "execute_result"
    }
   ],
   "source": [
    "sharpe_ratio(cum_amzn_return,cum_amzn_strategy_return)"
   ]
  },
  {
   "cell_type": "code",
   "execution_count": null,
   "id": "97f289bc",
   "metadata": {},
   "outputs": [],
   "source": [
    "# I have to conclude that OLS is too basic for amazon stocks..."
   ]
  }
 ],
 "metadata": {
  "kernelspec": {
   "display_name": "Python 3 (ipykernel)",
   "language": "python",
   "name": "python3"
  },
  "language_info": {
   "codemirror_mode": {
    "name": "ipython",
    "version": 3
   },
   "file_extension": ".py",
   "mimetype": "text/x-python",
   "name": "python",
   "nbconvert_exporter": "python",
   "pygments_lexer": "ipython3",
   "version": "3.9.7"
  }
 },
 "nbformat": 4,
 "nbformat_minor": 5
}
